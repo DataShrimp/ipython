{
 "cells": [
  {
   "cell_type": "code",
   "execution_count": 1,
   "metadata": {
    "collapsed": true
   },
   "outputs": [],
   "source": [
    "import gym\n",
    "import numpy as np\n",
    "import tensorflow as tf"
   ]
  },
  {
   "cell_type": "markdown",
   "metadata": {},
   "source": [
    "# FrozenLake确定版本"
   ]
  },
  {
   "cell_type": "code",
   "execution_count": 2,
   "metadata": {
    "collapsed": true
   },
   "outputs": [],
   "source": [
    "from gym.envs.registration import register\n",
    "register(\n",
    "    id='FrozenLakeNotSlippery-v0',\n",
    "    entry_point='gym.envs.toy_text:FrozenLakeEnv',\n",
    "    kwargs={'map_name' : '4x4', 'is_slippery': False},\n",
    "    max_episode_steps=100,\n",
    "    reward_threshold=0.78, # optimum = .8196\n",
    ")"
   ]
  },
  {
   "cell_type": "markdown",
   "metadata": {},
   "source": [
    "随机尝试FrozenLake问题"
   ]
  },
  {
   "cell_type": "code",
   "execution_count": 3,
   "metadata": {
    "scrolled": false
   },
   "outputs": [
    {
     "name": "stderr",
     "output_type": "stream",
     "text": [
      "[2017-06-24 08:38:52,639] Making new env: FrozenLakeNotSlippery-v0\n"
     ]
    },
    {
     "name": "stdout",
     "output_type": "stream",
     "text": [
      "\n",
      "\u001b[41mS\u001b[0mFFF\n",
      "FHFH\n",
      "FFFH\n",
      "HFFG\n",
      "  (Left)\n",
      "\u001b[41mS\u001b[0mFFF\n",
      "FHFH\n",
      "FFFH\n",
      "HFFG\n",
      "  (Up)\n",
      "\u001b[41mS\u001b[0mFFF\n",
      "FHFH\n",
      "FFFH\n",
      "HFFG\n",
      "  (Down)\n",
      "SFFF\n",
      "\u001b[41mF\u001b[0mHFH\n",
      "FFFH\n",
      "HFFG\n",
      "  (Left)\n",
      "SFFF\n",
      "\u001b[41mF\u001b[0mHFH\n",
      "FFFH\n",
      "HFFG\n",
      "  (Up)\n",
      "\u001b[41mS\u001b[0mFFF\n",
      "FHFH\n",
      "FFFH\n",
      "HFFG\n",
      "  (Up)\n",
      "\u001b[41mS\u001b[0mFFF\n",
      "FHFH\n",
      "FFFH\n",
      "HFFG\n",
      "  (Up)\n",
      "\u001b[41mS\u001b[0mFFF\n",
      "FHFH\n",
      "FFFH\n",
      "HFFG\n",
      "  (Up)\n",
      "\u001b[41mS\u001b[0mFFF\n",
      "FHFH\n",
      "FFFH\n",
      "HFFG\n",
      "  (Down)\n",
      "SFFF\n",
      "\u001b[41mF\u001b[0mHFH\n",
      "FFFH\n",
      "HFFG\n",
      "  (Up)\n",
      "\u001b[41mS\u001b[0mFFF\n",
      "FHFH\n",
      "FFFH\n",
      "HFFG\n",
      "  (Down)\n",
      "SFFF\n",
      "\u001b[41mF\u001b[0mHFH\n",
      "FFFH\n",
      "HFFG\n"
     ]
    }
   ],
   "source": [
    "env = gym.make('FrozenLakeNotSlippery-v0')\n",
    "s = env.reset()\n",
    "\n",
    "for _ in range(100):\n",
    "    env.render()\n",
    "    a = env.action_space.sample()\n",
    "    s, r, d, _ = env.step(a)\n",
    "    if d==True:\n",
    "        break"
   ]
  },
  {
   "cell_type": "markdown",
   "metadata": {},
   "source": [
    "# 折扣累积函数实现"
   ]
  },
  {
   "cell_type": "code",
   "execution_count": 4,
   "metadata": {
    "scrolled": true
   },
   "outputs": [
    {
     "name": "stdout",
     "output_type": "stream",
     "text": [
      "[[ 0.          0.          1.01010101  0.        ]\n",
      " [ 0.          0.          1.01010101  0.        ]\n",
      " [ 0.          1.01010101  0.          0.        ]\n",
      " [ 0.          0.          0.          0.        ]\n",
      " [ 0.          0.          0.          0.        ]\n",
      " [ 0.          0.          0.          0.        ]\n",
      " [ 0.          1.01010101  0.          0.        ]\n",
      " [ 0.          0.          0.          0.        ]\n",
      " [ 0.          0.          0.          0.        ]\n",
      " [ 0.          0.          0.          0.        ]\n",
      " [ 0.          1.01010101  0.          0.        ]\n",
      " [ 0.          0.          0.          0.        ]\n",
      " [ 0.          0.          0.          0.        ]\n",
      " [ 0.          0.          0.          0.        ]\n",
      " [ 0.          0.          1.01010101  0.        ]\n",
      " [ 0.          0.          0.          0.        ]]\n"
     ]
    }
   ],
   "source": [
    "num_episodes = 2000\n",
    "num_exp = 100\n",
    "\n",
    "discount = 0.99\n",
    "Q = np.zeros([env.observation_space.n,env.action_space.n])\n",
    "\n",
    "for i in range(num_episodes):\n",
    "    s = env.reset()\n",
    "    r_all = 0\n",
    "    for j in range(num_exp):\n",
    "        # 根据Q-table选择最优动作，为开始中加入随机项，其值随次数增多而减小，模拟探索／利用策略\n",
    "        a = np.argmax(Q[s,] + np.random.randn(1,env.action_space.n)*(1./(i+1)))\n",
    "        s1, r, d, _ = env.step(a)\n",
    "        # 更新Q-table\n",
    "        Q[s,a] = Q[s,a] + (r + discount*np.max(Q[s1,]-Q[s,a]))\n",
    "        r_all += r\n",
    "        s = s1\n",
    "        if d==True:\n",
    "            break\n",
    "    \n",
    "print Q"
   ]
  },
  {
   "cell_type": "markdown",
   "metadata": {},
   "source": [
    "# 神经网络实现"
   ]
  },
  {
   "cell_type": "code",
   "execution_count": 5,
   "metadata": {
    "collapsed": true,
    "scrolled": false
   },
   "outputs": [],
   "source": [
    "tf.reset_default_graph()\n",
    "\n",
    "inputs = tf.placeholder(dtype=tf.float32, shape=[1,16])\n",
    "W = tf.Variable(tf.random_uniform([16,4],minval=0,maxval=0.01))\n",
    "Q = tf.matmul(inputs, W)\n",
    "out = tf.argmax(Q, 1)\n",
    "\n",
    "Qplus = tf.placeholder(dtype=tf.float32, shape=[1,4])\n",
    "loss = tf.reduce_sum(tf.square(Qplus - Q))\n",
    "optimize = tf.train.GradientDescentOptimizer(learning_rate=0.1)\n",
    "\n",
    "update = optimize.minimize(loss)"
   ]
  },
  {
   "cell_type": "code",
   "execution_count": 7,
   "metadata": {
    "scrolled": true
   },
   "outputs": [
    {
     "name": "stdout",
     "output_type": "stream",
     "text": [
      "[[ 0.00932195  0.00941612  0.00941612  0.00932195]\n",
      " [ 0.00932195  0.00951123  0.00932195  0.00941612]\n",
      " [ 0.00941612  0.00939542  0.00917731  0.00931969]\n",
      " [ 0.00927864  0.00589476  0.00914054  0.0067129 ]\n",
      " [ 0.00941612  0.00932195  0.00951123  0.00932195]\n",
      " [ 0.00939793  0.00960731  0.00221813  0.00609945]\n",
      " [ 0.0095078   0.00349769  0.00476513  0.00696958]\n",
      " [ 0.00466632  0.00539051  0.00580434  0.00222694]\n",
      " [ 0.00932195  0.00902112  0.00919807  0.00941612]\n",
      " [ 0.00930827  0.00718343  0.00615196  0.00862864]\n",
      " [ 0.00221011  0.00639263  0.00259545  0.0039196 ]\n",
      " [ 0.0016076   0.00025851  0.00510592  0.00206563]\n",
      " [ 0.00778738  0.00628488  0.00911224  0.00363264]\n",
      " [ 0.008194    0.0069425   0.00517019  0.00840881]\n",
      " [ 0.00758353  0.00226784  0.00114562  0.0039397 ]\n",
      " [ 0.00682094  0.00621753  0.00688601  0.00319589]]\n"
     ]
    }
   ],
   "source": [
    "num_episodes = 2000\n",
    "num_exp = 100\n",
    "e = 0.1\n",
    "discount = 0.99\n",
    "r_list = []\n",
    "j_list = []\n",
    "\n",
    "init = tf.global_variables_initializer()\n",
    "with tf.Session() as sess:\n",
    "    sess.run(init)\n",
    "    for i in range(num_episodes):\n",
    "        s = env.reset()\n",
    "        rAll = 0\n",
    "        for j in range(num_exp):\n",
    "            a,targetQ = sess.run([out, Q], feed_dict={inputs:np.identity(16)[s:(s+1)]})\n",
    "            if np.random.randn(1) < e:\n",
    "                a[0] = env.action_space.sample()\n",
    "            s1, r, d, _ = env.step(a[0])\n",
    "            Q1 = sess.run(Q, feed_dict={inputs:np.identity(16)[s1:(s1+1)]})\n",
    "            targetQ[0, a[0]] = r + discount*np.max(Q1)\n",
    "            _,Qw = sess.run([update,W], feed_dict={inputs:np.identity(16)[s:(s+1)], Qplus:targetQ})\n",
    "            s = s1\n",
    "            rAll += r\n",
    "            if d==True:\n",
    "                # 随着次数的增多，不断降低探索的概率\n",
    "                e = 1.0/((i/50)+10)\n",
    "                break\n",
    "        r_list.append(rAll)\n",
    "        j_list.append(j)\n",
    "        \n",
    "print Qw"
   ]
  },
  {
   "cell_type": "code",
   "execution_count": null,
   "metadata": {
    "collapsed": true
   },
   "outputs": [],
   "source": []
  }
 ],
 "metadata": {
  "kernelspec": {
   "display_name": "Python 2",
   "language": "python",
   "name": "python2"
  },
  "language_info": {
   "codemirror_mode": {
    "name": "ipython",
    "version": 2
   },
   "file_extension": ".py",
   "mimetype": "text/x-python",
   "name": "python",
   "nbconvert_exporter": "python",
   "pygments_lexer": "ipython2",
   "version": "2.7.12"
  }
 },
 "nbformat": 4,
 "nbformat_minor": 2
}
