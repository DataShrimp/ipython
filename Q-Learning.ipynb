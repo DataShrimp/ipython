{
 "cells": [
  {
   "cell_type": "code",
   "execution_count": 1,
   "metadata": {
    "collapsed": true
   },
   "outputs": [],
   "source": [
    "import gym\n",
    "import numpy as np\n",
    "import tensorflow as tf"
   ]
  },
  {
   "cell_type": "code",
   "execution_count": 2,
   "metadata": {
    "collapsed": true
   },
   "outputs": [],
   "source": [
    "from gym.envs.registration import register\n",
    "register(\n",
    "    id='FrozenLakeNotSlippery-v0',\n",
    "    entry_point='gym.envs.toy_text:FrozenLakeEnv',\n",
    "    kwargs={'map_name' : '4x4', 'is_slippery': False},\n",
    "    max_episode_steps=100,\n",
    "    reward_threshold=0.78, # optimum = .8196\n",
    ")"
   ]
  },
  {
   "cell_type": "code",
   "execution_count": 3,
   "metadata": {
    "scrolled": false
   },
   "outputs": [
    {
     "name": "stderr",
     "output_type": "stream",
     "text": [
      "[2017-06-20 06:50:15,363] Making new env: FrozenLakeNotSlippery-v0\n"
     ]
    },
    {
     "name": "stdout",
     "output_type": "stream",
     "text": [
      "\n",
      "\u001b[41mS\u001b[0mFFF\n",
      "FHFH\n",
      "FFFH\n",
      "HFFG\n",
      "  (Left)\n",
      "\u001b[41mS\u001b[0mFFF\n",
      "FHFH\n",
      "FFFH\n",
      "HFFG\n",
      "  (Up)\n",
      "\u001b[41mS\u001b[0mFFF\n",
      "FHFH\n",
      "FFFH\n",
      "HFFG\n",
      "  (Down)\n",
      "SFFF\n",
      "\u001b[41mF\u001b[0mHFH\n",
      "FFFH\n",
      "HFFG\n",
      "  (Left)\n",
      "SFFF\n",
      "\u001b[41mF\u001b[0mHFH\n",
      "FFFH\n",
      "HFFG\n",
      "  (Up)\n",
      "\u001b[41mS\u001b[0mFFF\n",
      "FHFH\n",
      "FFFH\n",
      "HFFG\n",
      "  (Up)\n",
      "\u001b[41mS\u001b[0mFFF\n",
      "FHFH\n",
      "FFFH\n",
      "HFFG\n",
      "  (Up)\n",
      "\u001b[41mS\u001b[0mFFF\n",
      "FHFH\n",
      "FFFH\n",
      "HFFG\n",
      "  (Up)\n",
      "\u001b[41mS\u001b[0mFFF\n",
      "FHFH\n",
      "FFFH\n",
      "HFFG\n",
      "  (Down)\n",
      "SFFF\n",
      "\u001b[41mF\u001b[0mHFH\n",
      "FFFH\n",
      "HFFG\n",
      "  (Up)\n",
      "\u001b[41mS\u001b[0mFFF\n",
      "FHFH\n",
      "FFFH\n",
      "HFFG\n",
      "  (Down)\n",
      "SFFF\n",
      "\u001b[41mF\u001b[0mHFH\n",
      "FFFH\n",
      "HFFG\n"
     ]
    }
   ],
   "source": [
    "env = gym.make('FrozenLakeNotSlippery-v0')\n",
    "s = env.reset()\n",
    "\n",
    "rewards = []\n",
    "actions = []\n",
    "states = [s]\n",
    "for _ in range(100):\n",
    "    env.render()\n",
    "    a = env.action_space.sample()\n",
    "    s, r, d, _ = env.step(a)\n",
    "    rewards.append(r)\n",
    "    actions.append(a)\n",
    "    states.append(s)\n",
    "    if d==True:\n",
    "        break"
   ]
  },
  {
   "cell_type": "markdown",
   "metadata": {},
   "source": [
    "折扣累积函数实现"
   ]
  },
  {
   "cell_type": "code",
   "execution_count": 4,
   "metadata": {
    "scrolled": true
   },
   "outputs": [
    {
     "name": "stdout",
     "output_type": "stream",
     "text": [
      "[[ 0.          1.01010101  0.          0.        ]\n",
      " [ 0.          0.          0.          0.        ]\n",
      " [ 0.          0.          0.          0.        ]\n",
      " [ 0.          0.          0.          0.        ]\n",
      " [ 0.          1.01010101  0.          0.        ]\n",
      " [ 0.          0.          0.          0.        ]\n",
      " [ 0.          0.          0.          0.        ]\n",
      " [ 0.          0.          0.          0.        ]\n",
      " [ 0.          0.          1.01010101  0.        ]\n",
      " [ 0.          1.01010101  0.          0.        ]\n",
      " [ 0.          0.          0.          0.        ]\n",
      " [ 0.          0.          0.          0.        ]\n",
      " [ 0.          0.          0.          0.        ]\n",
      " [ 0.          0.          1.01010101  0.        ]\n",
      " [ 0.          0.          1.01010101  0.        ]\n",
      " [ 0.          0.          0.          0.        ]]\n"
     ]
    }
   ],
   "source": [
    "num_episodes = 2000\n",
    "num_exp = 100\n",
    "\n",
    "discount = 0.99\n",
    "Q = np.zeros([env.observation_space.n,env.action_space.n])\n",
    "\n",
    "for i in range(num_episodes):\n",
    "    s = env.reset()\n",
    "    r_all = 0\n",
    "    for j in range(num_exp):\n",
    "        # 根据Q-table选择最优动作，为开始中加入随机项，其值随次数增多而减小，模拟探索／利用策略\n",
    "        a = np.argmax(Q[s,] + np.random.randn(1,env.action_space.n)*(1./(i+1)))\n",
    "        s1, r, d, _ = env.step(a)\n",
    "        # 更新Q-table\n",
    "        Q[s,a] = Q[s,a] + (r + discount*np.max(Q[s1,]-Q[s,a]))\n",
    "        r_all += r\n",
    "        s = s1\n",
    "        if d==True:\n",
    "            break\n",
    "    \n",
    "print Q"
   ]
  },
  {
   "cell_type": "markdown",
   "metadata": {},
   "source": [
    "神经网络实现"
   ]
  },
  {
   "cell_type": "code",
   "execution_count": 38,
   "metadata": {
    "scrolled": false
   },
   "outputs": [],
   "source": [
    "tf.reset_default_graph()\n",
    "\n",
    "inputs = tf.placeholder(dtype=tf.float32, shape=[1,16])\n",
    "W = tf.Variable(tf.random_uniform([16,4],minval=0,maxval=0.1))\n",
    "Q = tf.matmul(inputs, W)\n",
    "out = tf.argmax(Q, 1)\n",
    "\n",
    "Qplus = tf.placeholder(dtype=tf.float32, shape=[1,4])\n",
    "loss = tf.reduce_sum(tf.square(Qplus - Q))\n",
    "optimize = tf.train.GradientDescentOptimizer(learning_rate=0.01)\n",
    "\n",
    "update = optimize.minimize(loss)"
   ]
  },
  {
   "cell_type": "code",
   "execution_count": 55,
   "metadata": {
    "scrolled": true
   },
   "outputs": [],
   "source": [
    "num_episodes = 2000\n",
    "num_exp = 100\n",
    "e = 0.1\n",
    "discount = 0.99\n",
    "r_list = []\n",
    "j_list = []\n",
    "\n",
    "init = tf.global_variables_initializer()\n",
    "with tf.Session() as sess:\n",
    "    sess.run(init)\n",
    "    for i in range(num_episodes):\n",
    "        s = env.reset()\n",
    "        rAll = 0\n",
    "        for j in range(num_exp):\n",
    "            a = sess.run(out, feed_dict={inputs:np.identity(16)[s:(s+1)]})\n",
    "            if np.random.randn(1) < e:\n",
    "                a[0] = env.action_space.sample()\n",
    "            s1, r, d, _ = env.step(a[0])\n",
    "            targetQ = sess.run(Q, feed_dict={inputs:np.identity(16)[s1:(s1+1)]})\n",
    "            targetQ[0, a[0]] = r + discount*np.max(targetQ)\n",
    "            _,Qw = sess.run([update,W], feed_dict={inputs:np.identity(16)[s:(s+1)], Qplus:targetQ})\n",
    "            s = s1\n",
    "            rAll += r\n",
    "            if d==True:\n",
    "                # 降低探索的概率\n",
    "                e = 1.0/(i+10)\n",
    "                break\n",
    "        r_list.append(rAll)\n",
    "        j_list.append(j)"
   ]
  },
  {
   "cell_type": "code",
   "execution_count": 56,
   "metadata": {},
   "outputs": [
    {
     "data": {
      "text/plain": [
       "array([[ 0.05831863,  0.06324577,  0.04077114,  0.05069289],\n",
       "       [ 0.04550828,  0.05993972,  0.03847277,  0.05840481],\n",
       "       [ 0.05555288,  0.05983341,  0.04727112,  0.05982288],\n",
       "       [ 0.04594327,  0.06094423,  0.05360661,  0.06851841],\n",
       "       [ 0.05967407,  0.06496553,  0.03774201,  0.04750047],\n",
       "       [ 0.03905617,  0.02351878,  0.03271607,  0.05973833],\n",
       "       [ 0.05554296,  0.04283049,  0.04565795,  0.05821531],\n",
       "       [ 0.03585453,  0.01711981,  0.06851705,  0.06862446],\n",
       "       [ 0.06349712,  0.07504875,  0.03240879,  0.04109855],\n",
       "       [ 0.04754862,  0.04103345,  0.0416178 ,  0.05780173],\n",
       "       [ 0.05191639,  0.05615814,  0.07320867,  0.04694156],\n",
       "       [ 0.06624027,  0.05776247,  0.07247669,  0.06645908],\n",
       "       [ 0.06540928,  0.08389746,  0.02745999,  0.03374217],\n",
       "       [ 0.05370254,  0.01984292,  0.07395524,  0.08590403],\n",
       "       [ 0.05304103,  0.04729204,  0.19151625,  0.04600854],\n",
       "       [ 0.09376138,  0.05290662,  0.07220618,  0.00825945]], dtype=float32)"
      ]
     },
     "execution_count": 56,
     "metadata": {},
     "output_type": "execute_result"
    }
   ],
   "source": [
    "Qw"
   ]
  },
  {
   "cell_type": "code",
   "execution_count": 57,
   "metadata": {},
   "outputs": [
    {
     "data": {
      "text/plain": [
       "<tf.Tensor 'MatMul:0' shape=(1, 4) dtype=float32>"
      ]
     },
     "execution_count": 57,
     "metadata": {},
     "output_type": "execute_result"
    }
   ],
   "source": [
    "[[ 0.          1.01010101  0.          0.        ]\n",
    " [ 0.          0.          0.          0.        ]\n",
    " [ 0.          0.          0.          0.        ]\n",
    " [ 0.          0.          0.          0.        ]\n",
    " [ 0.          1.01010101  0.          0.        ]\n",
    " [ 0.          0.          0.          0.        ]\n",
    " [ 0.          0.          0.          0.        ]\n",
    " [ 0.          0.          0.          0.        ]\n",
    " [ 0.          0.          1.01010101  0.        ]\n",
    " [ 0.          1.01010101  0.          0.        ]\n",
    " [ 0.          0.          0.          0.        ]\n",
    " [ 0.          0.          0.          0.        ]\n",
    " [ 0.          0.          0.          0.        ]\n",
    " [ 0.          0.          1.01010101  0.        ]\n",
    " [ 0.          0.          1.01010101  0.        ]\n",
    " [ 0.          0.          0.          0.        ]]"
   ]
  },
  {
   "cell_type": "code",
   "execution_count": null,
   "metadata": {
    "collapsed": true
   },
   "outputs": [],
   "source": []
  }
 ],
 "metadata": {
  "kernelspec": {
   "display_name": "Python 2",
   "language": "python",
   "name": "python2"
  },
  "language_info": {
   "codemirror_mode": {
    "name": "ipython",
    "version": 2
   },
   "file_extension": ".py",
   "mimetype": "text/x-python",
   "name": "python",
   "nbconvert_exporter": "python",
   "pygments_lexer": "ipython2",
   "version": "2.7.12"
  }
 },
 "nbformat": 4,
 "nbformat_minor": 2
}
