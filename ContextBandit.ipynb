{
 "cells": [
  {
   "cell_type": "code",
   "execution_count": null,
   "metadata": {
    "collapsed": true
   },
   "outputs": [],
   "source": [
    "import numpy as np\n",
    "import tensorflow as tf\n",
    "import matplotlib.pyplot as plt\n",
    "%matplotlib inline"
   ]
  },
  {
   "cell_type": "markdown",
   "metadata": {},
   "source": [
    "# 基于状态的多臂赌博机"
   ]
  },
  {
   "cell_type": "code",
   "execution_count": null,
   "metadata": {
    "collapsed": true
   },
   "outputs": [],
   "source": [
    "class ContextBandit:\n",
    "    def __init__(self):\n",
    "        # 测试\n",
    "        self.bandits = np.array([[0.8,0,2.3,-5],[0.1,-5,3.2,2.2],[-5,3.5,5,5]])\n",
    "        self.bandit_nums = self.bandits.shape[0]\n",
    "        self.action_nums = self.bandits.shape[1]\n",
    "    \n",
    "    def getBandit(self):\n",
    "        self.state = np.random.randint(0, self.bandit_nums)\n",
    "        return self.state\n",
    "    \n",
    "    def pullArm(self, action):\n",
    "        bandit = self.bandits[self.state, action]\n",
    "        ret = np.random.randn(1)\n",
    "        if ret > bandit:\n",
    "            reward = 1\n",
    "        else:\n",
    "            reward = -1\n",
    "        return reward"
   ]
  },
  {
   "cell_type": "markdown",
   "metadata": {},
   "source": [
    "# 基于神经网络的Agent建模"
   ]
  },
  {
   "cell_type": "code",
   "execution_count": null,
   "metadata": {
    "collapsed": true
   },
   "outputs": [],
   "source": [
    "class Agent:\n",
    "    def __init__(self, lr, state_size, action_size):\n",
    "        # 根据训练函数获得推荐动作\n",
    "        self.state = tf.placeholder(dtype=tf.int32, shape=[1])\n",
    "        state_oh = tf.one_hot(self.state, state_size)\n",
    "        net = tf.layers.dense(state_oh, action_size, activation=tf.sigmoid, kernel_initializer=tf.ones_initializer())\n",
    "        self.out = tf.reshape(net, shape=[-1])\n",
    "        self.chosen_action = tf.argmax(self.out, 0)\n",
    "        \n",
    "        # 进行训练优化\n",
    "        self.reward_holder = tf.placeholder(dtype=tf.float32, shape=[1])\n",
    "        self.action_holder = tf.placeholder(dtype=tf.int32, shape=[1])\n",
    "        self.response_weight = tf.slice(self.out, self.action_holder, size=[1])\n",
    "        self.loss = -(tf.log(self.response_weight)*self.reward_holder)\n",
    "        optimize = tf.train.GradientDescentOptimizer(learning_rate=lr)\n",
    "        self.update = optimize.minimize(self.loss)"
   ]
  },
  {
   "cell_type": "markdown",
   "metadata": {},
   "source": [
    "# 训练学习"
   ]
  },
  {
   "cell_type": "code",
   "execution_count": null,
   "metadata": {
    "collapsed": true,
    "scrolled": false
   },
   "outputs": [],
   "source": [
    "tf.reset_default_graph()\n",
    "cBandit = ContextBandit()\n",
    "agent = Agent(lr=0.001, state_size=cBandit.bandit_nums, action_size=cBandit.action_nums)\n",
    "total_episodes = 10000\n",
    "total_reward = np.zeros([cBandit.bandit_nums, cBandit.action_nums])\n",
    "e = 0.1\n",
    "\n",
    "init = tf.global_variables_initializer()\n",
    "with tf.Session() as sess:\n",
    "    sess.run(init)\n",
    "    for i in range(total_episodes):\n",
    "        s = cBandit.getBandit()\n",
    "        \n",
    "        if np.random.randn(1)<e:\n",
    "            action = np.random.randint(0, cBandit.action_nums)\n",
    "        else:\n",
    "            action = sess.run(agent.chosen_action, feed_dict={agent.state:[s]})\n",
    "        \n",
    "        reward = cBandit.pullArm(action)\n",
    "        sess.run(agent.update, feed_dict={agent.action_holder:[action], agent.reward_holder:[reward], agent.state:[s]})\n",
    "        total_reward[s, action] += reward"
   ]
  },
  {
   "cell_type": "code",
   "execution_count": null,
   "metadata": {
    "collapsed": true
   },
   "outputs": [],
   "source": [
    "for s in range(cBandit.bandit_nums):\n",
    "    print (np.argmax(total_reward[s]) == np.argmin(cBandit.bandits[s]))"
   ]
  },
  {
   "cell_type": "markdown",
   "metadata": {
    "collapsed": true
   },
   "source": []
  },
  {
   "cell_type": "code",
   "execution_count": 1,
   "metadata": {
    "collapsed": true
   },
   "outputs": [],
   "source": [
    "# 打折函数，从回报序列中得到回退前N步的累积打折回报\n",
    "gamma = 0.9\n",
    "def discount(r):\n",
    "    discount_r = np.zeros_like(r)\n",
    "    add_term = 0\n",
    "    for idx in reversed(range(r.size)):\n",
    "        discount_r[idx] = add_term*gamma + r[idx]\n",
    "        add_term = discount_r[idx]\n",
    "    return discount_r"
   ]
  },
  {
   "cell_type": "code",
   "execution_count": 2,
   "metadata": {
    "collapsed": true
   },
   "outputs": [],
   "source": [
    "class SeqAgent:\n",
    "    def __init__(self, lr, state_size, hidden_size, action_size):\n",
    "        self.state_holder = tf.placeholder(dtype=tf.float32, shape=[None, state_size])\n",
    "        hidden = tf.layers.dense(self.state_holder, hidden_size, activation=tf.nn.relu)\n",
    "        self.out = tf.layers.dense(hidden, action_size, activation=tf.nn.sigmoid)\n",
    "        self.chosen_action = tf.argmax(self.out, 1)\n",
    "        \n",
    "        self.action_holder = tf.placeholder(dtype=tf.int32, shape=[None])\n",
    "        self.reward_holder = tf.placeholder(dtype=tf.float32, shape=[None])\n",
    "        indices = tf.range(0, tf.shape(self.out)[0])*tf.shape(self.out)[1] + self.action_holder\n",
    "        self.response_weight = tf.gather(tf.reshape(self.out, [-1]), indices)\n",
    "        self.loss = -tf.reduce_mean(tf.log(self.response_weight)*self.reward_holder)\n",
    "\n",
    "        # 优化策略梯度\n",
    "        tvars = tf.trainable_variables()\n",
    "        self.gradient_holders = []\n",
    "        for ix,var in enumerate(tvars):\n",
    "            placeholder = tf.placeholder(dtype=tf.float32, name=str(ix)+\"holder\")\n",
    "            self.gradient_holders.append(placeholder)\n",
    "        \n",
    "        self.gradients = tf.gradients(self.loss, tvars)\n",
    "        \n",
    "        opt = tf.train.AdamOptimizer(learning_rate=lr)\n",
    "        self.update = opt.apply_gradients(zip(self.gradient_holders,tvars))"
   ]
  },
  {
   "cell_type": "code",
   "execution_count": 3,
   "metadata": {},
   "outputs": [
    {
     "name": "stderr",
     "output_type": "stream",
     "text": [
      "[2017-06-13 09:07:53,806] Making new env: CartPole-v0\n"
     ]
    },
    {
     "ename": "NameError",
     "evalue": "name 'tf' is not defined",
     "output_type": "error",
     "traceback": [
      "\u001b[0;31m---------------------------------------------------------------------------\u001b[0m",
      "\u001b[0;31mNameError\u001b[0m                                 Traceback (most recent call last)",
      "\u001b[0;32m<ipython-input-3-93f668b3a009>\u001b[0m in \u001b[0;36m<module>\u001b[0;34m()\u001b[0m\n\u001b[1;32m      2\u001b[0m \u001b[0menv\u001b[0m \u001b[0;34m=\u001b[0m \u001b[0mgym\u001b[0m\u001b[0;34m.\u001b[0m\u001b[0mmake\u001b[0m\u001b[0;34m(\u001b[0m\u001b[0;34m'CartPole-v0'\u001b[0m\u001b[0;34m)\u001b[0m\u001b[0;34m\u001b[0m\u001b[0m\n\u001b[1;32m      3\u001b[0m \u001b[0;34m\u001b[0m\u001b[0m\n\u001b[0;32m----> 4\u001b[0;31m \u001b[0mtf\u001b[0m\u001b[0;34m.\u001b[0m\u001b[0mreset_default_graph\u001b[0m\u001b[0;34m(\u001b[0m\u001b[0;34m)\u001b[0m\u001b[0;34m\u001b[0m\u001b[0m\n\u001b[0m\u001b[1;32m      5\u001b[0m \u001b[0magent\u001b[0m \u001b[0;34m=\u001b[0m \u001b[0mSeqAgent\u001b[0m\u001b[0;34m(\u001b[0m\u001b[0mlr\u001b[0m\u001b[0;34m=\u001b[0m\u001b[0;36m0.001\u001b[0m\u001b[0;34m,\u001b[0m \u001b[0mstate_size\u001b[0m\u001b[0;34m=\u001b[0m\u001b[0;36m4\u001b[0m\u001b[0;34m,\u001b[0m \u001b[0mhidden_size\u001b[0m\u001b[0;34m=\u001b[0m\u001b[0;36m8\u001b[0m\u001b[0;34m,\u001b[0m \u001b[0maction_size\u001b[0m\u001b[0;34m=\u001b[0m\u001b[0;36m2\u001b[0m\u001b[0;34m)\u001b[0m\u001b[0;34m\u001b[0m\u001b[0m\n\u001b[1;32m      6\u001b[0m \u001b[0;34m\u001b[0m\u001b[0m\n",
      "\u001b[0;31mNameError\u001b[0m: name 'tf' is not defined"
     ]
    }
   ],
   "source": [
    "import gym\n",
    "env = gym.make('CartPole-v0')\n",
    "\n",
    "tf.reset_default_graph()\n",
    "agent = SeqAgent(lr=0.001, state_size=4, hidden_size=8, action_size=2)\n",
    "\n",
    "total_episode = 1000\n",
    "total_reward = []\n",
    "total_length = []\n",
    "\n",
    "max_exp = 1000\n",
    "\n",
    "init = tf.global_variables_initializer()\n",
    "with tf.Session() as sess:\n",
    "    sess.run(init)\n",
    "    \n",
    "    # 获得梯度缓存\n",
    "    grad_buff = sess.run(tf.trainable_variables())\n",
    "    for ix,grad in enumerate(grad_buff):\n",
    "        grad_buff[ix] = grad*0\n",
    "    \n",
    "    for i in range(total_episode):\n",
    "        s = env.reset()\n",
    "        \n",
    "        exp_history = []\n",
    "        # 运行过程\n",
    "        for j in range(max_exp):\n",
    "            # 从网络中获取最佳行为,TODO\n",
    "            a = env.action_space.sample()\n",
    "            s1, r, done, _ = env.step(a)\n",
    "            exp_history.append([s,a,r,s1])\n",
    "            s = s1\n",
    "            \n",
    "            if done==True:\n",
    "                # 获取序列数据，更新网络\n",
    "                exp_history = np.array(exp_history)\n",
    "                # reward\n",
    "                exp_history[:,2] = discount_rewards(exp_history[:,2])\n",
    "                feed_dict = {agent.reward_holder: exp_history[:,2],\n",
    "                            agent.action_holder: exp_history[:,1],\n",
    "                            agent.state_holder: np.vstack(exp_history[:,0])}\n",
    "                grads = sess.run(agent.gradients, feed_dict)\n",
    "                for ix,grad in enumerate(grads):\n",
    "                    grads[ix] += grad\n",
    "                \n",
    "                break\n",
    "                                                                      \n",
    "                \n",
    "            "
   ]
  },
  {
   "cell_type": "code",
   "execution_count": null,
   "metadata": {
    "collapsed": true
   },
   "outputs": [],
   "source": []
  }
 ],
 "metadata": {
  "anaconda-cloud": {},
  "kernelspec": {
   "display_name": "Python 2",
   "language": "python",
   "name": "python2"
  },
  "language_info": {
   "codemirror_mode": {
    "name": "ipython",
    "version": 2
   },
   "file_extension": ".py",
   "mimetype": "text/x-python",
   "name": "python",
   "nbconvert_exporter": "python",
   "pygments_lexer": "ipython2",
   "version": "2.7.12"
  }
 },
 "nbformat": 4,
 "nbformat_minor": 1
}
