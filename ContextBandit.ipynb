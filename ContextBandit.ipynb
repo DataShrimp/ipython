{
 "cells": [
  {
   "cell_type": "code",
   "execution_count": null,
   "metadata": {
    "collapsed": false
   },
   "outputs": [],
   "source": [
    "import numpy as np\n",
    "import tensorflow as tf\n",
    "import matplotlib.pyplot as plt\n",
    "%matplotlib inline"
   ]
  },
  {
   "cell_type": "markdown",
   "metadata": {},
   "source": [
    "# 基于状态的多臂赌博机"
   ]
  },
  {
   "cell_type": "code",
   "execution_count": null,
   "metadata": {
    "collapsed": true
   },
   "outputs": [],
   "source": [
    "class ContextBandit:\n",
    "    def __init__(self):\n",
    "        # 测试\n",
    "        self.bandits = np.array([[0.8,0,2.3,-5],[0.1,-5,3.2,2.2],[-5,3.5,5,5]])\n",
    "        self.bandit_nums = self.bandits.shape[0]\n",
    "        self.action_nums = self.bandits.shape[1]\n",
    "    \n",
    "    def getBandit(self):\n",
    "        self.state = np.random.randint(0, self.bandit_nums)\n",
    "        return self.state\n",
    "    \n",
    "    def pullArm(self, action):\n",
    "        bandit = self.bandits[self.state, action]\n",
    "        ret = np.random.randn(1)\n",
    "        if ret > bandit:\n",
    "            reward = 1\n",
    "        else:\n",
    "            reward = -1\n",
    "        return reward"
   ]
  },
  {
   "cell_type": "markdown",
   "metadata": {},
   "source": [
    "# 基于神经网络的Agent建模"
   ]
  },
  {
   "cell_type": "code",
   "execution_count": null,
   "metadata": {
    "collapsed": true
   },
   "outputs": [],
   "source": [
    "class Agent:\n",
    "    def __init__(self, lr, state_size, action_size):\n",
    "        # 根据训练函数获得推荐动作\n",
    "        self.state = tf.placeholder(dtype=tf.int32, shape=[1])\n",
    "        state_oh = tf.one_hot(self.state, state_size)\n",
    "        net = tf.layers.dense(state_oh, action_size, activation=tf.sigmoid, kernel_initializer=tf.ones_initializer())\n",
    "        self.out = tf.reshape(net, shape=[-1])\n",
    "        self.chosen_action = tf.argmax(self.out, 0)\n",
    "        \n",
    "        # 进行训练优化\n",
    "        self.reward_holder = tf.placeholder(dtype=tf.float32, shape=[1])\n",
    "        self.action_holder = tf.placeholder(dtype=tf.int32, shape=[1])\n",
    "        self.response_weight = tf.slice(self.out, self.action_holder, size=[1])\n",
    "        self.loss = -(tf.log(self.response_weight)*self.reward_holder)\n",
    "        optimize = tf.train.GradientDescentOptimizer(learning_rate=lr)\n",
    "        self.update = optimize.minimize(self.loss)"
   ]
  },
  {
   "cell_type": "markdown",
   "metadata": {},
   "source": [
    "# 训练学习"
   ]
  },
  {
   "cell_type": "code",
   "execution_count": null,
   "metadata": {
    "collapsed": false,
    "scrolled": false
   },
   "outputs": [],
   "source": [
    "tf.reset_default_graph()\n",
    "cBandit = ContextBandit()\n",
    "agent = Agent(lr=0.001, state_size=cBandit.bandit_nums, action_size=cBandit.action_nums)\n",
    "total_episodes = 10000\n",
    "total_reward = np.zeros([cBandit.bandit_nums, cBandit.action_nums])\n",
    "e = 0.1\n",
    "\n",
    "init = tf.global_variables_initializer()\n",
    "with tf.Session() as sess:\n",
    "    sess.run(init)\n",
    "    for i in range(total_episodes):\n",
    "        s = cBandit.getBandit()\n",
    "        \n",
    "        if np.random.randn(1)<e:\n",
    "            action = np.random.randint(0, cBandit.action_nums)\n",
    "        else:\n",
    "            action = sess.run(agent.chosen_action, feed_dict={agent.state:[s]})\n",
    "        \n",
    "        reward = cBandit.pullArm(action)\n",
    "        sess.run(agent.update, feed_dict={agent.action_holder:[action], agent.reward_holder:[reward], agent.state:[s]})\n",
    "        total_reward[s, action] += reward"
   ]
  },
  {
   "cell_type": "code",
   "execution_count": null,
   "metadata": {
    "collapsed": false
   },
   "outputs": [],
   "source": [
    "for s in range(cBandit.bandit_nums):\n",
    "    print (np.argmax(total_reward[s]) == np.argmin(cBandit.bandits[s]))"
   ]
  },
  {
   "cell_type": "code",
   "execution_count": null,
   "metadata": {
    "collapsed": true
   },
   "outputs": [],
   "source": []
  }
 ],
 "metadata": {
  "anaconda-cloud": {},
  "kernelspec": {
   "display_name": "Python [conda root]",
   "language": "python",
   "name": "conda-root-py"
  },
  "language_info": {
   "codemirror_mode": {
    "name": "ipython",
    "version": 3
   },
   "file_extension": ".py",
   "mimetype": "text/x-python",
   "name": "python",
   "nbconvert_exporter": "python",
   "pygments_lexer": "ipython3",
   "version": "3.5.2"
  }
 },
 "nbformat": 4,
 "nbformat_minor": 1
}
