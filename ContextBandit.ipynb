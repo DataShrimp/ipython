{
 "cells": [
  {
   "cell_type": "code",
   "execution_count": 1,
   "metadata": {
    "collapsed": true
   },
   "outputs": [],
   "source": [
    "import numpy as np\n",
    "import tensorflow as tf\n",
    "import matplotlib.pyplot as plt\n",
    "%matplotlib inline"
   ]
  },
  {
   "cell_type": "markdown",
   "metadata": {},
   "source": [
    "# 状态多臂赌博机\n",
    "引入状态变量，即哪一台赌博机"
   ]
  },
  {
   "cell_type": "code",
   "execution_count": 2,
   "metadata": {
    "collapsed": true
   },
   "outputs": [],
   "source": [
    "class ContextBandit:\n",
    "    def __init__(self):\n",
    "        # 测试\n",
    "        self.bandits = np.array([[0.8,0,2.3,-5],[0.1,-5,3.2,2.2],[-5,3.5,5,5]])\n",
    "        self.bandit_nums = self.bandits.shape[0]\n",
    "        self.action_nums = self.bandits.shape[1]\n",
    "    \n",
    "    def getBandit(self):\n",
    "        self.state = np.random.randint(0, self.bandit_nums)\n",
    "        return self.state\n",
    "    \n",
    "    def pullArm(self, action):\n",
    "        bandit = self.bandits[self.state, action]\n",
    "        ret = np.random.randn(1)\n",
    "        if ret > bandit:\n",
    "            reward = 1\n",
    "        else:\n",
    "            reward = -1\n",
    "        return reward"
   ]
  },
  {
   "cell_type": "markdown",
   "metadata": {},
   "source": [
    "# 状态的Agent建模\n",
    "首先对有限状态输入做one hot编码，输出节点（action）权重系数设置为1，代表选择的行动，损失函数即优化该权重"
   ]
  },
  {
   "cell_type": "code",
   "execution_count": 3,
   "metadata": {
    "collapsed": true
   },
   "outputs": [],
   "source": [
    "class StateAgent:\n",
    "    def __init__(self, lr, state_size, action_size):\n",
    "        # 根据训练函数获得推荐动作\n",
    "        self.state = tf.placeholder(dtype=tf.int32, shape=[1])\n",
    "        state_oh = tf.one_hot(self.state, state_size)\n",
    "        net = tf.layers.dense(state_oh, action_size, activation=tf.sigmoid, kernel_initializer=tf.ones_initializer())\n",
    "        self.out = tf.reshape(net, shape=[-1])\n",
    "        self.chosen_action = tf.argmax(self.out, 0)\n",
    "        \n",
    "        # 进行训练优化\n",
    "        self.reward_holder = tf.placeholder(dtype=tf.float32, shape=[1])\n",
    "        self.action_holder = tf.placeholder(dtype=tf.int32, shape=[1])\n",
    "        self.response_weight = tf.slice(self.out, self.action_holder, size=[1])\n",
    "        self.loss = -(tf.log(self.response_weight)*self.reward_holder)\n",
    "        optimize = tf.train.GradientDescentOptimizer(learning_rate=lr)\n",
    "        self.update = optimize.minimize(self.loss)"
   ]
  },
  {
   "cell_type": "markdown",
   "metadata": {},
   "source": [
    "# 训练学习"
   ]
  },
  {
   "cell_type": "code",
   "execution_count": 4,
   "metadata": {
    "collapsed": true,
    "scrolled": false
   },
   "outputs": [],
   "source": [
    "tf.reset_default_graph()\n",
    "cBandit = ContextBandit()\n",
    "agent = StateAgent(lr=0.001, state_size=cBandit.bandit_nums, action_size=cBandit.action_nums)\n",
    "total_episodes = 10000\n",
    "total_reward = np.zeros([cBandit.bandit_nums, cBandit.action_nums])\n",
    "e = 0.1\n",
    "\n",
    "init = tf.global_variables_initializer()\n",
    "with tf.Session() as sess:\n",
    "    sess.run(init)\n",
    "    for i in range(total_episodes):\n",
    "        s = cBandit.getBandit()\n",
    "        \n",
    "        if np.random.randn(1)<e:\n",
    "            action = np.random.randint(0, cBandit.action_nums)\n",
    "        else:\n",
    "            action = sess.run(agent.chosen_action, feed_dict={agent.state:[s]})\n",
    "        \n",
    "        reward = cBandit.pullArm(action)\n",
    "        sess.run(agent.update, feed_dict={agent.action_holder:[action], agent.reward_holder:[reward], agent.state:[s]})\n",
    "        total_reward[s, action] += reward"
   ]
  },
  {
   "cell_type": "code",
   "execution_count": 5,
   "metadata": {},
   "outputs": [
    {
     "name": "stdout",
     "output_type": "stream",
     "text": [
      "True\n",
      "True\n",
      "True\n"
     ]
    }
   ],
   "source": [
    "for s in range(cBandit.bandit_nums):\n",
    "    print (np.argmax(total_reward[s]) == np.argmin(cBandit.bandits[s]))"
   ]
  },
  {
   "cell_type": "markdown",
   "metadata": {
    "collapsed": true
   },
   "source": [
    "# 打折函数\n",
    "从回报序列中得到回退前N步的累积打折回报"
   ]
  },
  {
   "cell_type": "code",
   "execution_count": 6,
   "metadata": {
    "collapsed": true
   },
   "outputs": [],
   "source": [
    "gamma = 0.99\n",
    "def discount_rewards(r):\n",
    "    discount_r = np.zeros_like(r)\n",
    "    add_term = 0\n",
    "    for idx in reversed(range(r.size)):\n",
    "        discount_r[idx] = add_term*gamma + r[idx]\n",
    "        add_term = discount_r[idx]\n",
    "    return discount_r"
   ]
  },
  {
   "cell_type": "markdown",
   "metadata": {},
   "source": [
    "# 序列Agent建模\n",
    "输入和输出变量多添加一个时间维度，行为策略输出相比之前需要做相应的改变。网络中加入隐层提高建模能力，"
   ]
  },
  {
   "cell_type": "code",
   "execution_count": 7,
   "metadata": {
    "collapsed": true
   },
   "outputs": [],
   "source": [
    "class SeqAgent:\n",
    "    def __init__(self, lr, state_size, hidden_size, action_size):\n",
    "        self.state_holder = tf.placeholder(dtype=tf.float32, shape=[None, state_size])\n",
    "        hidden = tf.layers.dense(self.state_holder, hidden_size, activation=tf.nn.relu)\n",
    "        self.out = tf.layers.dense(hidden, action_size, activation=tf.nn.softmax)\n",
    "        self.chosen_action = tf.argmax(self.out, 1)\n",
    "        \n",
    "        self.action_holder = tf.placeholder(dtype=tf.int32, shape=[None])\n",
    "        self.reward_holder = tf.placeholder(dtype=tf.float32, shape=[None])\n",
    "        indices = tf.range(0, tf.shape(self.out)[0])*tf.shape(self.out)[1] + self.action_holder\n",
    "        self.response_weight = tf.gather(tf.reshape(self.out, [-1]), indices)\n",
    "        self.loss = -tf.reduce_mean(tf.log(self.response_weight)*self.reward_holder)\n",
    "        \n",
    "        optimize = tf.train.AdamOptimizer(learning_rate=lr)\n",
    "        self.update = optimize.minimize(self.loss)"
   ]
  },
  {
   "cell_type": "code",
   "execution_count": 8,
   "metadata": {
    "scrolled": true
   },
   "outputs": [
    {
     "name": "stderr",
     "output_type": "stream",
     "text": [
      "[2017-06-28 22:11:31,556] Making new env: CartPole-v0\n",
      "/Users/xu/miniconda2/lib/python2.7/site-packages/tensorflow/python/ops/gradients_impl.py:91: UserWarning: Converting sparse IndexedSlices to a dense Tensor of unknown shape. This may consume a large amount of memory.\n",
      "  \"Converting sparse IndexedSlices to a dense Tensor of unknown shape. \"\n"
     ]
    },
    {
     "name": "stdout",
     "output_type": "stream",
     "text": [
      "20.0 19.0\n",
      "47.54 46.54\n",
      "114.52 113.52\n",
      "165.14 164.14\n",
      "190.56 189.56\n",
      "119.41 118.41\n",
      "30.83 29.83\n",
      "106.41 105.41\n",
      "163.45 162.45\n",
      "195.84 194.84\n"
     ]
    }
   ],
   "source": [
    "import gym\n",
    "env = gym.make('CartPole-v0')\n",
    "\n",
    "tf.reset_default_graph()\n",
    "agent = SeqAgent(lr=0.01, state_size=4, hidden_size=8, action_size=2)\n",
    "\n",
    "total_episode = 1000\n",
    "total_reward = []\n",
    "total_length = []\n",
    "\n",
    "max_exp = 999\n",
    "\n",
    "init = tf.global_variables_initializer()\n",
    "with tf.Session() as sess:\n",
    "    sess.run(init)\n",
    "    \n",
    "    for i in range(total_episode):\n",
    "        s = env.reset()\n",
    "        \n",
    "        reward = 0\n",
    "        exp_history = []\n",
    "        # 运行过程\n",
    "        for j in range(max_exp):\n",
    "            # 从网络输出中选择可能的最佳行为，在利用网络和随机之间的权衡\n",
    "            a_dist = sess.run(agent.out, feed_dict={agent.state_holder: [s]})\n",
    "            a = np.random.choice(a_dist[0],p=a_dist[0])\n",
    "            a = np.argmax(a_dist == a)\n",
    "            s1, r, done, _ = env.step(a)\n",
    "            exp_history.append([s,a,r,s1])\n",
    "            s = s1\n",
    "            reward += r\n",
    "            \n",
    "            if done==True:\n",
    "                # 仿真结束，获取序列数据，更新网络\n",
    "                exp_history = np.array(exp_history)\n",
    "                # reward\n",
    "                exp_history[:,2] = discount_rewards(exp_history[:,2])\n",
    "                feed_dict = {agent.reward_holder: exp_history[:,2],\n",
    "                            agent.action_holder: exp_history[:,1],\n",
    "                            agent.state_holder: np.vstack(exp_history[:,0])}\n",
    "                sess.run(agent.update, feed_dict)\n",
    "\n",
    "                total_reward.append(reward)\n",
    "                total_length.append(j)\n",
    "                if (i%100) == 0:\n",
    "                    print np.mean(total_reward[-100:]), np.mean(total_length[-100:])\n",
    "                break "
   ]
  },
  {
   "cell_type": "code",
   "execution_count": null,
   "metadata": {
    "collapsed": true
   },
   "outputs": [],
   "source": []
  }
 ],
 "metadata": {
  "anaconda-cloud": {},
  "kernelspec": {
   "display_name": "Python 2",
   "language": "python",
   "name": "python2"
  },
  "language_info": {
   "codemirror_mode": {
    "name": "ipython",
    "version": 2
   },
   "file_extension": ".py",
   "mimetype": "text/x-python",
   "name": "python",
   "nbconvert_exporter": "python",
   "pygments_lexer": "ipython2",
   "version": "2.7.12"
  }
 },
 "nbformat": 4,
 "nbformat_minor": 1
}
