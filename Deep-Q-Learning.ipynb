{
 "cells": [
  {
   "cell_type": "code",
   "execution_count": 18,
   "metadata": {
    "collapsed": true
   },
   "outputs": [],
   "source": [
    "from __future__ import division\n",
    "\n",
    "import tensorflow as tf\n",
    "import numpy as np\n",
    "import random\n",
    "import gym\n",
    "from IPython import display\n",
    "import matplotlib.pyplot as plt\n",
    "import os\n",
    "%matplotlib inline"
   ]
  },
  {
   "cell_type": "markdown",
   "metadata": {},
   "source": [
    "载入Atari撞球游戏"
   ]
  },
  {
   "cell_type": "code",
   "execution_count": 2,
   "metadata": {},
   "outputs": [
    {
     "data": {
      "image/png": "[encoded data removed]",
      "text/plain": [
       "<matplotlib.figure.Figure at 0x1132888d0>"
      ]
     },
     "metadata": {},
     "output_type": "display_data"
    }
   ],
   "source": [
    "env = gym.make(\"Breakout-v0\")\n",
    "s = env.reset()\n",
    "img = plt.imshow(env.render(mode='rgb_array'))\n",
    "\n",
    "for i in range(200):\n",
    "    img.set_data(env.render(mode='rgb_array'))\n",
    "    display.display(plt.gcf())\n",
    "    display.clear_output(wait=True)\n",
    "    a = env.action_space.sample()\n",
    "    s1, r, d, _ = env.step(a)\n",
    "    if d==True:\n",
    "        break"
   ]
  },
  {
   "cell_type": "code",
   "execution_count": 3,
   "metadata": {},
   "outputs": [
    {
     "data": {
      "image/png": "[encoded data removed]",
      "text/plain": [
       "<matplotlib.figure.Figure at 0x1144f2ad0>"
      ]
     },
     "metadata": {},
     "output_type": "display_data"
    }
   ],
   "source": [
    "from gridworld import gameEnv\n",
    "env = gameEnv(partial=False,size=5)"
   ]
  },
  {
   "cell_type": "markdown",
   "metadata": {},
   "source": [
    "状态变量变为游戏图像，使用卷积神经网络建模，目标函数分解为对偶的状态优势和动作优势，使两者解耦，预测结果更鲁棒。"
   ]
  },
  {
   "cell_type": "code",
   "execution_count": 4,
   "metadata": {},
   "outputs": [
    {
     "data": {
      "text/plain": [
       "21168"
      ]
     },
     "execution_count": 4,
     "metadata": {},
     "output_type": "execute_result"
    }
   ],
   "source": [
    "84*84*3"
   ]
  },
  {
   "cell_type": "code",
   "execution_count": 60,
   "metadata": {
    "collapsed": true
   },
   "outputs": [],
   "source": [
    "class QNetwork:\n",
    "    def __init__(self, width, height, h_size, lr=0.0001, action_num=4, channel=3):\n",
    "        self.inputs = tf.placeholder(dtype=tf.float32, shape=[None, width*height*channel])\n",
    "        imgs = tf.reshape(self.inputs, shape=[-1, width, height, channel])\n",
    "        conv1 = tf.layers.conv2d(imgs, filters=32, kernel_size=8, strides=4, padding='VALID', bias_initializer=None)\n",
    "        conv2 = tf.layers.conv2d(conv1, filters=64, kernel_size=4, strides=2, padding='VALID', bias_initializer=None)\n",
    "        conv3 = tf.layers.conv2d(conv2, filters=64, kernel_size=3, strides=1, padding='VALID', bias_initializer=None)\n",
    "        conv4 = tf.layers.conv2d(conv3, filters=h_size, kernel_size=7, strides=1, padding='VALID', bias_initializer=None)\n",
    "\n",
    "        streamAC, streamVC = tf.split(conv4, 2, channel)\n",
    "        streamA = tf.contrib.layers.flatten(streamAC)\n",
    "        streamV = tf.contrib.layers.flatten(streamVC)\n",
    "        # N,4(action_space.n)\n",
    "        A = tf.layers.dense(streamA, action_num, use_bias=False)\n",
    "        # N,1\n",
    "        V = tf.layers.dense(streamV, 1, use_bias=False)\n",
    "\n",
    "        # N,4\n",
    "        self.Qout = V + tf.subtract(A, tf.reduce_mean(A, axis=1, keep_dims=True))\n",
    "        # N,1\n",
    "        self.predict = tf.argmax(self.Qout, axis=1)\n",
    "\n",
    "        # N,1\n",
    "        self.targetQ = tf.placeholder(dtype=tf.float32, shape=[None])\n",
    "        # N,1\n",
    "        self.actions = tf.placeholder(dtype=tf.int32, shape=[None])\n",
    "        # N,4\n",
    "        actions_onehot = tf.one_hot(self.actions, action_num, dtype=tf.float32)\n",
    "\n",
    "        # N,1\n",
    "        Q = tf.reduce_sum(tf.multiply(self.Qout, actions_onehot), axis=1)\n",
    "        # 1\n",
    "        loss = tf.reduce_mean(tf.square(Q - self.targetQ))\n",
    "        optmize = tf.train.AdamOptimizer(learning_rate=lr)\n",
    "        self.update = optmize.minimize(loss)"
   ]
  },
  {
   "cell_type": "markdown",
   "metadata": {},
   "source": [
    "更新目标网络值"
   ]
  },
  {
   "cell_type": "code",
   "execution_count": 17,
   "metadata": {
    "collapsed": true
   },
   "outputs": [],
   "source": [
    "def updateTargetGraph(tfVars, tau):\n",
    "    total_vars = len(tfVars)\n",
    "    op_holder = []\n",
    "    for idx, var in enumerate(tfVars[0:total_vars//2]):\n",
    "        op_holder.append(tfVars[idx+total_vars//2].assign((var.value()*tau) +\n",
    "                                                          ((1-tau)*tfVars[idx+total_vars//2].value())))\n",
    "        return op_holder\n",
    "\n",
    "def updateTarget(op_holder, sess):\n",
    "    for op in op_holder:\n",
    "        sess.run(op)"
   ]
  },
  {
   "cell_type": "markdown",
   "metadata": {},
   "source": [
    "训练过程，使用双向队列和随机采样实现\"经验回放\"，"
   ]
  },
  {
   "cell_type": "code",
   "execution_count": 62,
   "metadata": {},
   "outputs": [
    {
     "name": "stdout",
     "output_type": "stream",
     "text": [
      "50 1.0 1.0\n",
      "50050 0.0 0.0999999999999\n",
      "100050 0.0 0.0999999999999\n"
     ]
    },
    {
     "ename": "KeyboardInterrupt",
     "evalue": "",
     "output_type": "error",
     "traceback": [
      "\u001b[0;31m---------------------------------------------------------------------------\u001b[0m",
      "\u001b[0;31mKeyboardInterrupt\u001b[0m                         Traceback (most recent call last)",
      "\u001b[0;32m<ipython-input-62-2c92094a447f>\u001b[0m in \u001b[0;36m<module>\u001b[0;34m()\u001b[0m\n\u001b[1;32m     52\u001b[0m                     \u001b[0;31m# update network with target value\u001b[0m\u001b[0;34m\u001b[0m\u001b[0;34m\u001b[0m\u001b[0m\n\u001b[1;32m     53\u001b[0m                     sess.run(mainQN.update, feed_dict={mainQN.inputs:np.stack(batch[:,0]), mainQN.targetQ:targetQ,\n\u001b[0;32m---> 54\u001b[0;31m                                                        mainQN.actions:batch[:,1]})\n\u001b[0m\u001b[1;32m     55\u001b[0m                     \u001b[0;31m# udpate target network more slowly\u001b[0m\u001b[0;34m\u001b[0m\u001b[0;34m\u001b[0m\u001b[0m\n\u001b[1;32m     56\u001b[0m                     \u001b[0;32mif\u001b[0m \u001b[0mtotal_step\u001b[0m \u001b[0;34m%\u001b[0m \u001b[0;34m(\u001b[0m\u001b[0mupdate_freq\u001b[0m\u001b[0;34m*\u001b[0m\u001b[0;36m1000\u001b[0m\u001b[0;34m)\u001b[0m \u001b[0;34m==\u001b[0m \u001b[0;36m0\u001b[0m\u001b[0;34m:\u001b[0m\u001b[0;34m\u001b[0m\u001b[0m\n",
      "\u001b[0;32m/Users/xu/miniconda2/lib/python2.7/site-packages/tensorflow/python/client/session.pyc\u001b[0m in \u001b[0;36mrun\u001b[0;34m(self, fetches, feed_dict, options, run_metadata)\u001b[0m\n\u001b[1;32m    765\u001b[0m     \u001b[0;32mtry\u001b[0m\u001b[0;34m:\u001b[0m\u001b[0;34m\u001b[0m\u001b[0m\n\u001b[1;32m    766\u001b[0m       result = self._run(None, fetches, feed_dict, options_ptr,\n\u001b[0;32m--> 767\u001b[0;31m                          run_metadata_ptr)\n\u001b[0m\u001b[1;32m    768\u001b[0m       \u001b[0;32mif\u001b[0m \u001b[0mrun_metadata\u001b[0m\u001b[0;34m:\u001b[0m\u001b[0;34m\u001b[0m\u001b[0m\n\u001b[1;32m    769\u001b[0m         \u001b[0mproto_data\u001b[0m \u001b[0;34m=\u001b[0m \u001b[0mtf_session\u001b[0m\u001b[0;34m.\u001b[0m\u001b[0mTF_GetBuffer\u001b[0m\u001b[0;34m(\u001b[0m\u001b[0mrun_metadata_ptr\u001b[0m\u001b[0;34m)\u001b[0m\u001b[0;34m\u001b[0m\u001b[0m\n",
      "\u001b[0;32m/Users/xu/miniconda2/lib/python2.7/site-packages/tensorflow/python/client/session.pyc\u001b[0m in \u001b[0;36m_run\u001b[0;34m(self, handle, fetches, feed_dict, options, run_metadata)\u001b[0m\n\u001b[1;32m    963\u001b[0m     \u001b[0;32mif\u001b[0m \u001b[0mfinal_fetches\u001b[0m \u001b[0;32mor\u001b[0m \u001b[0mfinal_targets\u001b[0m\u001b[0;34m:\u001b[0m\u001b[0;34m\u001b[0m\u001b[0m\n\u001b[1;32m    964\u001b[0m       results = self._do_run(handle, final_targets, final_fetches,\n\u001b[0;32m--> 965\u001b[0;31m                              feed_dict_string, options, run_metadata)\n\u001b[0m\u001b[1;32m    966\u001b[0m     \u001b[0;32melse\u001b[0m\u001b[0;34m:\u001b[0m\u001b[0;34m\u001b[0m\u001b[0m\n\u001b[1;32m    967\u001b[0m       \u001b[0mresults\u001b[0m \u001b[0;34m=\u001b[0m \u001b[0;34m[\u001b[0m\u001b[0;34m]\u001b[0m\u001b[0;34m\u001b[0m\u001b[0m\n",
      "\u001b[0;32m/Users/xu/miniconda2/lib/python2.7/site-packages/tensorflow/python/client/session.pyc\u001b[0m in \u001b[0;36m_do_run\u001b[0;34m(self, handle, target_list, fetch_list, feed_dict, options, run_metadata)\u001b[0m\n\u001b[1;32m   1013\u001b[0m     \u001b[0;32mif\u001b[0m \u001b[0mhandle\u001b[0m \u001b[0;32mis\u001b[0m \u001b[0mNone\u001b[0m\u001b[0;34m:\u001b[0m\u001b[0;34m\u001b[0m\u001b[0m\n\u001b[1;32m   1014\u001b[0m       return self._do_call(_run_fn, self._session, feed_dict, fetch_list,\n\u001b[0;32m-> 1015\u001b[0;31m                            target_list, options, run_metadata)\n\u001b[0m\u001b[1;32m   1016\u001b[0m     \u001b[0;32melse\u001b[0m\u001b[0;34m:\u001b[0m\u001b[0;34m\u001b[0m\u001b[0m\n\u001b[1;32m   1017\u001b[0m       return self._do_call(_prun_fn, self._session, handle, feed_dict,\n",
      "\u001b[0;32m/Users/xu/miniconda2/lib/python2.7/site-packages/tensorflow/python/client/session.pyc\u001b[0m in \u001b[0;36m_do_call\u001b[0;34m(self, fn, *args)\u001b[0m\n\u001b[1;32m   1020\u001b[0m   \u001b[0;32mdef\u001b[0m \u001b[0m_do_call\u001b[0m\u001b[0;34m(\u001b[0m\u001b[0mself\u001b[0m\u001b[0;34m,\u001b[0m \u001b[0mfn\u001b[0m\u001b[0;34m,\u001b[0m \u001b[0;34m*\u001b[0m\u001b[0margs\u001b[0m\u001b[0;34m)\u001b[0m\u001b[0;34m:\u001b[0m\u001b[0;34m\u001b[0m\u001b[0m\n\u001b[1;32m   1021\u001b[0m     \u001b[0;32mtry\u001b[0m\u001b[0;34m:\u001b[0m\u001b[0;34m\u001b[0m\u001b[0m\n\u001b[0;32m-> 1022\u001b[0;31m       \u001b[0;32mreturn\u001b[0m \u001b[0mfn\u001b[0m\u001b[0;34m(\u001b[0m\u001b[0;34m*\u001b[0m\u001b[0margs\u001b[0m\u001b[0;34m)\u001b[0m\u001b[0;34m\u001b[0m\u001b[0m\n\u001b[0m\u001b[1;32m   1023\u001b[0m     \u001b[0;32mexcept\u001b[0m \u001b[0merrors\u001b[0m\u001b[0;34m.\u001b[0m\u001b[0mOpError\u001b[0m \u001b[0;32mas\u001b[0m \u001b[0me\u001b[0m\u001b[0;34m:\u001b[0m\u001b[0;34m\u001b[0m\u001b[0m\n\u001b[1;32m   1024\u001b[0m       \u001b[0mmessage\u001b[0m \u001b[0;34m=\u001b[0m \u001b[0mcompat\u001b[0m\u001b[0;34m.\u001b[0m\u001b[0mas_text\u001b[0m\u001b[0;34m(\u001b[0m\u001b[0me\u001b[0m\u001b[0;34m.\u001b[0m\u001b[0mmessage\u001b[0m\u001b[0;34m)\u001b[0m\u001b[0;34m\u001b[0m\u001b[0m\n",
      "\u001b[0;32m/Users/xu/miniconda2/lib/python2.7/site-packages/tensorflow/python/client/session.pyc\u001b[0m in \u001b[0;36m_run_fn\u001b[0;34m(session, feed_dict, fetch_list, target_list, options, run_metadata)\u001b[0m\n\u001b[1;32m   1002\u001b[0m         return tf_session.TF_Run(session, options,\n\u001b[1;32m   1003\u001b[0m                                  \u001b[0mfeed_dict\u001b[0m\u001b[0;34m,\u001b[0m \u001b[0mfetch_list\u001b[0m\u001b[0;34m,\u001b[0m \u001b[0mtarget_list\u001b[0m\u001b[0;34m,\u001b[0m\u001b[0;34m\u001b[0m\u001b[0m\n\u001b[0;32m-> 1004\u001b[0;31m                                  status, run_metadata)\n\u001b[0m\u001b[1;32m   1005\u001b[0m \u001b[0;34m\u001b[0m\u001b[0m\n\u001b[1;32m   1006\u001b[0m     \u001b[0;32mdef\u001b[0m \u001b[0m_prun_fn\u001b[0m\u001b[0;34m(\u001b[0m\u001b[0msession\u001b[0m\u001b[0;34m,\u001b[0m \u001b[0mhandle\u001b[0m\u001b[0;34m,\u001b[0m \u001b[0mfeed_dict\u001b[0m\u001b[0;34m,\u001b[0m \u001b[0mfetch_list\u001b[0m\u001b[0;34m)\u001b[0m\u001b[0;34m:\u001b[0m\u001b[0;34m\u001b[0m\u001b[0m\n",
      "\u001b[0;31mKeyboardInterrupt\u001b[0m: "
     ]
    }
   ],
   "source": [
    "from collections import deque\n",
    "buff = deque(maxlen=50000)\n",
    "h_size = 512\n",
    "tar = 0.001\n",
    "\n",
    "num_episode = 10000\n",
    "num_exp = 50\n",
    "num_pre_train = 10000\n",
    "e = 1.0\n",
    "batch_size = 32\n",
    "discount = 0.99\n",
    "update_freq = 4\n",
    "path = \"./dqn\"\n",
    "load_model = False\n",
    "\n",
    "tf.reset_default_graph()\n",
    "mainQN = QNetwork(84, 84, h_size)\n",
    "targetQN = QNetwork(84, 84, h_size)\n",
    "init = tf.global_variables_initializer()\n",
    "\n",
    "saver = tf.train.saver()\n",
    "trainables = tf.trainable_variables()\n",
    "targetOps = updateTargetGraph(trainables, tau)\n",
    "if not os.path.exists(path):\n",
    "    os.makedirs(path)\n",
    "\n",
    "total_step = 0\n",
    "r_list = []\n",
    "with tf.Session() as sess:\n",
    "    sess.run(init)\n",
    "    if load_model == True:\n",
    "        print(\"Loading model...\")\n",
    "        ckpt = tf.train.get_checkpoint_state(path)\n",
    "        saver.restore(sess, ckpt.model_checkpoint_path)\n",
    "    for i in range(num_episode):\n",
    "        local_buff = deque(maxlen=50000)\n",
    "        s = env.reset()\n",
    "        s = np.reshape(s, -1)\n",
    "        d = False\n",
    "        r_all = 0\n",
    "        for j in range(num_exp):\n",
    "            if np.random.rand(1) < e or total_step<num_pre_train:\n",
    "                #a = env.action_space.sample()\n",
    "                a = np.random.randint(0,env.actions)\n",
    "            else:\n",
    "                a = sess.run(mainQN.predict, feed_dict={mainQN.inputs:[s]})[0]\n",
    "            s1, r, d = env.step(a)\n",
    "            s1 = np.reshape(s1, -1)\n",
    "            local_buff.append(np.array([s,a,r,s1,d]))\n",
    "            total_step += 1\n",
    "            \n",
    "            # after pre train (randomness)\n",
    "            if total_step > num_pre_train:\n",
    "                # reduce the random probability\n",
    "                if e>0.1:\n",
    "                    e -= 0.9/10000\n",
    "            \n",
    "                # update the Qnetwork\n",
    "                if total_step % update_freq == 0:\n",
    "                    batch = np.reshape(random.sample(buff, batch_size),[batch_size,5])\n",
    "                    acts = sess.run(mainQN.predict, feed_dict={mainQN.inputs:np.vstack(batch[:,3])})\n",
    "                    QN = sess.run(targetQN.Qout, feed_dict={targetQN.inputs:np.vstack(batch[:,3])})\n",
    "                    end_token = -(batch[:,4]-1) # 游戏结束，负向惩罚\n",
    "                    doubleQ = QN[range(batch_size),acts]\n",
    "                    targetQ = batch[:,2] + discount*doubleQ*end_token\n",
    "                    # update network with target value\n",
    "                    sess.run(mainQN.update, feed_dict={mainQN.inputs:np.vstack(batch[:,0]), mainQN.targetQ:targetQ,\n",
    "                                                       mainQN.actions:batch[:,1]})\n",
    "                    updateTarget(targetOps, sess)\n",
    "                    # udpate target network more slowly\n",
    "                    #if total_step % (update_freq*1000) == 0:\n",
    "                    #    sess.run(targetQN.update, feed_dict={targetQN.inputs:np.stack(batch[:,0]), \n",
    "                    #                                         targetQN.targetQ:targetQ, targetQN.actions:batch[:,1]})\n",
    "            \n",
    "            s = s1\n",
    "            r_all += r\n",
    "            \n",
    "            if d==True:\n",
    "                break\n",
    "        buff.extend(local_buff)\n",
    "        r_list.append(r_all)\n",
    "        \n",
    "        # save model and show the precedure\n",
    "        if i % 1000 == 0:\n",
    "            saver.save(sess, path+'/model-'+str(i)+'.ckpt')\n",
    "            print(\"save model\")\n",
    "        if len(r_list)%10 == 0:\n",
    "            print(total_step, np.mean(r_list[-10:]), e)\n",
    "    saver.save(sess, path+'/model-'+str(i)+'.ckpt')"
   ]
  },
  {
   "cell_type": "code",
   "execution_count": null,
   "metadata": {
    "collapsed": true
   },
   "outputs": [],
   "source": []
  }
 ],
 "metadata": {
  "kernelspec": {
   "display_name": "Python 2",
   "language": "python",
   "name": "python2"
  },
  "language_info": {
   "codemirror_mode": {
    "name": "ipython",
    "version": 2
   },
   "file_extension": ".py",
   "mimetype": "text/x-python",
   "name": "python",
   "nbconvert_exporter": "python",
   "pygments_lexer": "ipython2",
   "version": "2.7.12"
  }
 },
 "nbformat": 4,
 "nbformat_minor": 2
}
