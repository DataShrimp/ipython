{
 "cells": [
  {
   "cell_type": "code",
   "execution_count": 1,
   "metadata": {
    "collapsed": true
   },
   "outputs": [],
   "source": [
    "import tensorflow as tf\n",
    "import numpy as np\n",
    "import random\n",
    "import gym\n",
    "from IPython import display\n",
    "import matplotlib.pyplot as plt\n",
    "%matplotlib inline"
   ]
  },
  {
   "cell_type": "markdown",
   "metadata": {},
   "source": [
    "载入Atari撞球游戏"
   ]
  },
  {
   "cell_type": "code",
   "execution_count": 2,
   "metadata": {},
   "outputs": [
    {
     "data": {
      "image/png": "[encoded data removed]",
      "text/plain": [
       "<matplotlib.figure.Figure at 0x1132888d0>"
      ]
     },
     "metadata": {},
     "output_type": "display_data"
    }
   ],
   "source": [
    "env = gym.make(\"Breakout-v0\")\n",
    "s = env.reset()\n",
    "img = plt.imshow(env.render(mode='rgb_array'))\n",
    "\n",
    "for i in range(200):\n",
    "    img.set_data(env.render(mode='rgb_array'))\n",
    "    display.display(plt.gcf())\n",
    "    display.clear_output(wait=True)\n",
    "    a = env.action_space.sample()\n",
    "    s1, r, d, _ = env.step(a)\n",
    "    if d==True:\n",
    "        break"
   ]
  },
  {
   "cell_type": "markdown",
   "metadata": {},
   "source": [
    "状态变量变为游戏图像，使用卷积神经网络建模，目标函数分解为对偶的状态优势和动作优势，使两者解耦，预测结果更鲁棒。"
   ]
  },
  {
   "cell_type": "code",
   "execution_count": 3,
   "metadata": {
    "collapsed": true
   },
   "outputs": [],
   "source": [
    "class QNetwork:\n",
    "    def __init__(self, h_size):\n",
    "        # shape: N,100800\n",
    "        self.inputs = tf.placeholder(dtype=tf.float32, shape=[None, 210*160*3])\n",
    "        # N,210,160,3\n",
    "        imgs = tf.reshape(self.inputs, shape=[-1, 210, 160, 3])\n",
    "        # N,x1,y1,32\n",
    "        conv1 = tf.layers.conv2d(imgs, filters=32, kernel_size=8, strides=4, padding='VALID', bias_initializer=None)\n",
    "        # N,x2,y2,64\n",
    "        conv2 = tf.layers.conv2d(conv1, filters=64, kernel_size=4, strides=2, padding='VALID', bias_initializer=None)\n",
    "        # N,x3,y3,128\n",
    "        conv3 = tf.layers.conv2d(conv2, filters=128, kernel_size=2, strides=1, padding='VALID', bias_initializer=None)\n",
    "        # N,x4,y4,512\n",
    "        conv4 = tf.layers.conv2d(conv3, filters=h_size, kernel_size=1, strides=1, padding='VALID', bias_initializer=None)\n",
    "\n",
    "        # N,x4,y4,256, N,x4,y4,256\n",
    "        streamAC, streamVC = tf.split(conv4, 2, 3)\n",
    "        # N,x4*y4*256\n",
    "        streamA = tf.contrib.layers.flatten(streamAC)\n",
    "        streamV = tf.contrib.layers.flatten(streamVC)\n",
    "        # N,4(action_space.n)\n",
    "        A = tf.layers.dense(streamA, env.action_space.n, use_bias=False)\n",
    "        # N,1\n",
    "        V = tf.layers.dense(streamV, 1, use_bias=False)\n",
    "\n",
    "        # N,4\n",
    "        self.Qout = V + tf.subtract(A, tf.reduce_mean(A, axis=1, keep_dims=True))\n",
    "        # N,1\n",
    "        self.predict = tf.argmax(self.Qout, axis=1)\n",
    "\n",
    "        # N,1\n",
    "        self.targetQ = tf.placeholder(dtype=tf.float32, shape=[None])\n",
    "        # N,1\n",
    "        self.actions = tf.placeholder(dtype=tf.int32, shape=[None])\n",
    "        # N,4\n",
    "        actions_onehot = tf.one_hot(self.actions, env.action_space.n, dtype=tf.float32)\n",
    "\n",
    "        # N,1\n",
    "        Q = tf.reduce_sum(tf.multiply(self.Qout, actions_onehot), axis=1)\n",
    "        # 1\n",
    "        loss = tf.square(tf.reduce_sum(Q - self.targetQ))\n",
    "        optmize = tf.train.AdamOptimizer(learning_rate=0.001)\n",
    "        self.update = optmize.minimize(loss)"
   ]
  },
  {
   "cell_type": "markdown",
   "metadata": {},
   "source": [
    "训练过程，使用双向队列和随机采样实现\"经验回放\"，"
   ]
  },
  {
   "cell_type": "code",
   "execution_count": 5,
   "metadata": {},
   "outputs": [
    {
     "name": "stdout",
     "output_type": "stream",
     "text": [
      "1 500 2.0 0.1\n",
      "2 1000 2.0 0.05\n",
      "5 1500 0.0 0.0333333333333\n",
      "6 2000 1.0 0.025\n",
      "7 2500 2.0 0.02\n",
      "10 3000 0.0 0.0166666666667\n",
      "12 3500 1.0 0.0142857142857\n",
      "13 4000 2.0 0.0125\n",
      "15 4500 0.0 0.0111111111111\n",
      "18 5000 0.0 0.01\n",
      "19 5000 0.0 0.00909090909091\n",
      "19 5000 0.0 0.00833333333333\n",
      "20 5000 0.0 0.00769230769231\n"
     ]
    },
    {
     "ename": "KeyboardInterrupt",
     "evalue": "",
     "output_type": "error",
     "traceback": [
      "\u001b[0;31m---------------------------------------------------------------------------\u001b[0m",
      "\u001b[0;31mKeyboardInterrupt\u001b[0m                         Traceback (most recent call last)",
      "\u001b[0;32m<ipython-input-5-119efbcc10ae>\u001b[0m in \u001b[0;36m<module>\u001b[0;34m()\u001b[0m\n\u001b[1;32m     41\u001b[0m                 \u001b[0mnewQ\u001b[0m \u001b[0;34m=\u001b[0m \u001b[0mbatch\u001b[0m\u001b[0;34m[\u001b[0m\u001b[0;34m:\u001b[0m\u001b[0;34m,\u001b[0m\u001b[0;36m2\u001b[0m\u001b[0;34m]\u001b[0m \u001b[0;34m+\u001b[0m \u001b[0mdiscount\u001b[0m\u001b[0;34m*\u001b[0m\u001b[0mQN\u001b[0m\u001b[0;34m[\u001b[0m\u001b[0;34m:\u001b[0m\u001b[0;34m,\u001b[0m\u001b[0macts\u001b[0m\u001b[0;34m[\u001b[0m\u001b[0;36m0\u001b[0m\u001b[0;34m]\u001b[0m\u001b[0;34m]\u001b[0m\u001b[0;34m*\u001b[0m\u001b[0mend_token\u001b[0m\u001b[0;34m\u001b[0m\u001b[0m\n\u001b[1;32m     42\u001b[0m                 sess.run(mainQN.update, feed_dict={mainQN.inputs:np.stack(batch[:,0]), mainQN.targetQ:newQ,\n\u001b[0;32m---> 43\u001b[0;31m                                                    mainQN.actions:batch[:,1]})\n\u001b[0m\u001b[1;32m     44\u001b[0m                 \u001b[0;32mif\u001b[0m \u001b[0mtotal_step\u001b[0m \u001b[0;34m%\u001b[0m \u001b[0;36m500\u001b[0m \u001b[0;34m==\u001b[0m \u001b[0;36m0\u001b[0m\u001b[0;34m:\u001b[0m\u001b[0;34m\u001b[0m\u001b[0m\n\u001b[1;32m     45\u001b[0m                     sess.run(targetQN.update, feed_dict={targetQN.inputs:np.stack(batch[:,0]), \n",
      "\u001b[0;32m/Users/xu/miniconda2/lib/python2.7/site-packages/tensorflow/python/client/session.pyc\u001b[0m in \u001b[0;36mrun\u001b[0;34m(self, fetches, feed_dict, options, run_metadata)\u001b[0m\n\u001b[1;32m    765\u001b[0m     \u001b[0;32mtry\u001b[0m\u001b[0;34m:\u001b[0m\u001b[0;34m\u001b[0m\u001b[0m\n\u001b[1;32m    766\u001b[0m       result = self._run(None, fetches, feed_dict, options_ptr,\n\u001b[0;32m--> 767\u001b[0;31m                          run_metadata_ptr)\n\u001b[0m\u001b[1;32m    768\u001b[0m       \u001b[0;32mif\u001b[0m \u001b[0mrun_metadata\u001b[0m\u001b[0;34m:\u001b[0m\u001b[0;34m\u001b[0m\u001b[0m\n\u001b[1;32m    769\u001b[0m         \u001b[0mproto_data\u001b[0m \u001b[0;34m=\u001b[0m \u001b[0mtf_session\u001b[0m\u001b[0;34m.\u001b[0m\u001b[0mTF_GetBuffer\u001b[0m\u001b[0;34m(\u001b[0m\u001b[0mrun_metadata_ptr\u001b[0m\u001b[0;34m)\u001b[0m\u001b[0;34m\u001b[0m\u001b[0m\n",
      "\u001b[0;32m/Users/xu/miniconda2/lib/python2.7/site-packages/tensorflow/python/client/session.pyc\u001b[0m in \u001b[0;36m_run\u001b[0;34m(self, handle, fetches, feed_dict, options, run_metadata)\u001b[0m\n\u001b[1;32m    963\u001b[0m     \u001b[0;32mif\u001b[0m \u001b[0mfinal_fetches\u001b[0m \u001b[0;32mor\u001b[0m \u001b[0mfinal_targets\u001b[0m\u001b[0;34m:\u001b[0m\u001b[0;34m\u001b[0m\u001b[0m\n\u001b[1;32m    964\u001b[0m       results = self._do_run(handle, final_targets, final_fetches,\n\u001b[0;32m--> 965\u001b[0;31m                              feed_dict_string, options, run_metadata)\n\u001b[0m\u001b[1;32m    966\u001b[0m     \u001b[0;32melse\u001b[0m\u001b[0;34m:\u001b[0m\u001b[0;34m\u001b[0m\u001b[0m\n\u001b[1;32m    967\u001b[0m       \u001b[0mresults\u001b[0m \u001b[0;34m=\u001b[0m \u001b[0;34m[\u001b[0m\u001b[0;34m]\u001b[0m\u001b[0;34m\u001b[0m\u001b[0m\n",
      "\u001b[0;32m/Users/xu/miniconda2/lib/python2.7/site-packages/tensorflow/python/client/session.pyc\u001b[0m in \u001b[0;36m_do_run\u001b[0;34m(self, handle, target_list, fetch_list, feed_dict, options, run_metadata)\u001b[0m\n\u001b[1;32m   1013\u001b[0m     \u001b[0;32mif\u001b[0m \u001b[0mhandle\u001b[0m \u001b[0;32mis\u001b[0m \u001b[0mNone\u001b[0m\u001b[0;34m:\u001b[0m\u001b[0;34m\u001b[0m\u001b[0m\n\u001b[1;32m   1014\u001b[0m       return self._do_call(_run_fn, self._session, feed_dict, fetch_list,\n\u001b[0;32m-> 1015\u001b[0;31m                            target_list, options, run_metadata)\n\u001b[0m\u001b[1;32m   1016\u001b[0m     \u001b[0;32melse\u001b[0m\u001b[0;34m:\u001b[0m\u001b[0;34m\u001b[0m\u001b[0m\n\u001b[1;32m   1017\u001b[0m       return self._do_call(_prun_fn, self._session, handle, feed_dict,\n",
      "\u001b[0;32m/Users/xu/miniconda2/lib/python2.7/site-packages/tensorflow/python/client/session.pyc\u001b[0m in \u001b[0;36m_do_call\u001b[0;34m(self, fn, *args)\u001b[0m\n\u001b[1;32m   1020\u001b[0m   \u001b[0;32mdef\u001b[0m \u001b[0m_do_call\u001b[0m\u001b[0;34m(\u001b[0m\u001b[0mself\u001b[0m\u001b[0;34m,\u001b[0m \u001b[0mfn\u001b[0m\u001b[0;34m,\u001b[0m \u001b[0;34m*\u001b[0m\u001b[0margs\u001b[0m\u001b[0;34m)\u001b[0m\u001b[0;34m:\u001b[0m\u001b[0;34m\u001b[0m\u001b[0m\n\u001b[1;32m   1021\u001b[0m     \u001b[0;32mtry\u001b[0m\u001b[0;34m:\u001b[0m\u001b[0;34m\u001b[0m\u001b[0m\n\u001b[0;32m-> 1022\u001b[0;31m       \u001b[0;32mreturn\u001b[0m \u001b[0mfn\u001b[0m\u001b[0;34m(\u001b[0m\u001b[0;34m*\u001b[0m\u001b[0margs\u001b[0m\u001b[0;34m)\u001b[0m\u001b[0;34m\u001b[0m\u001b[0m\n\u001b[0m\u001b[1;32m   1023\u001b[0m     \u001b[0;32mexcept\u001b[0m \u001b[0merrors\u001b[0m\u001b[0;34m.\u001b[0m\u001b[0mOpError\u001b[0m \u001b[0;32mas\u001b[0m \u001b[0me\u001b[0m\u001b[0;34m:\u001b[0m\u001b[0;34m\u001b[0m\u001b[0m\n\u001b[1;32m   1024\u001b[0m       \u001b[0mmessage\u001b[0m \u001b[0;34m=\u001b[0m \u001b[0mcompat\u001b[0m\u001b[0;34m.\u001b[0m\u001b[0mas_text\u001b[0m\u001b[0;34m(\u001b[0m\u001b[0me\u001b[0m\u001b[0;34m.\u001b[0m\u001b[0mmessage\u001b[0m\u001b[0;34m)\u001b[0m\u001b[0;34m\u001b[0m\u001b[0m\n",
      "\u001b[0;32m/Users/xu/miniconda2/lib/python2.7/site-packages/tensorflow/python/client/session.pyc\u001b[0m in \u001b[0;36m_run_fn\u001b[0;34m(session, feed_dict, fetch_list, target_list, options, run_metadata)\u001b[0m\n\u001b[1;32m   1002\u001b[0m         return tf_session.TF_Run(session, options,\n\u001b[1;32m   1003\u001b[0m                                  \u001b[0mfeed_dict\u001b[0m\u001b[0;34m,\u001b[0m \u001b[0mfetch_list\u001b[0m\u001b[0;34m,\u001b[0m \u001b[0mtarget_list\u001b[0m\u001b[0;34m,\u001b[0m\u001b[0;34m\u001b[0m\u001b[0m\n\u001b[0;32m-> 1004\u001b[0;31m                                  status, run_metadata)\n\u001b[0m\u001b[1;32m   1005\u001b[0m \u001b[0;34m\u001b[0m\u001b[0m\n\u001b[1;32m   1006\u001b[0m     \u001b[0;32mdef\u001b[0m \u001b[0m_prun_fn\u001b[0m\u001b[0;34m(\u001b[0m\u001b[0msession\u001b[0m\u001b[0;34m,\u001b[0m \u001b[0mhandle\u001b[0m\u001b[0;34m,\u001b[0m \u001b[0mfeed_dict\u001b[0m\u001b[0;34m,\u001b[0m \u001b[0mfetch_list\u001b[0m\u001b[0;34m)\u001b[0m\u001b[0;34m:\u001b[0m\u001b[0;34m\u001b[0m\u001b[0m\n",
      "\u001b[0;31mKeyboardInterrupt\u001b[0m: "
     ]
    }
   ],
   "source": [
    "from collections import deque\n",
    "buff = deque(maxlen=5000)\n",
    "\n",
    "h_size = 512\n",
    "tf.reset_default_graph()\n",
    "mainQN = QNetwork(h_size)\n",
    "targetQN = QNetwork(h_size)\n",
    "\n",
    "num_episode = 1000\n",
    "num_exp = 1000\n",
    "e = 0.8\n",
    "total_step = 0\n",
    "batch_size = 32\n",
    "discount = 0.99\n",
    "\n",
    "init = tf.global_variables_initializer()\n",
    "with tf.Session() as sess:\n",
    "    sess.run(init)\n",
    "    for i in range(num_episode):\n",
    "        s = env.reset()\n",
    "        s = np.reshape(s, -1)\n",
    "        rAll = 0\n",
    "        for j in range(num_exp):\n",
    "            if np.random.rand(1) < e:\n",
    "                a = env.action_space.sample()\n",
    "            else:\n",
    "                a = sess.run(mainQN.predict, feed_dict={mainQN.inputs:[s]})[0]\n",
    "            s1, r, d, _ = env.step(a)\n",
    "            s1 = np.reshape(s1, -1)\n",
    "            buff.append(np.array([s,a,r,s1,d]))\n",
    "            s = s1\n",
    "            rAll += r\n",
    "            total_step += 1\n",
    "            \n",
    "            # update the Qnetwork\n",
    "            if total_step % 50 == 0:\n",
    "                batch = np.reshape(random.sample(buff, batch_size),[batch_size,5])\n",
    "                acts = sess.run(mainQN.predict, feed_dict={mainQN.inputs:np.stack(batch[:,3])})\n",
    "                QN = sess.run(targetQN.Qout, feed_dict={targetQN.inputs:np.stack(batch[:,3])})\n",
    "                end_token = -(batch[:,4]-1) # 游戏结束，负向惩罚\n",
    "                newQ = batch[:,2] + discount*QN[:,acts[0]]*end_token\n",
    "                sess.run(mainQN.update, feed_dict={mainQN.inputs:np.stack(batch[:,0]), mainQN.targetQ:newQ,\n",
    "                                                   mainQN.actions:batch[:,1]})\n",
    "                if total_step % 500 == 0:\n",
    "                    sess.run(targetQN.update, feed_dict={targetQN.inputs:np.stack(batch[:,0]), \n",
    "                                                         targetQN.targetQ:newQ, targetQN.actions:batch[:,1]})\n",
    "                    # show the precedure\n",
    "                    print i, rAll, e\n",
    "                # reduce the random probability\n",
    "                e = 1.0/((total_step/500)+1)\n",
    "            \n",
    "            if d==True:\n",
    "                break"
   ]
  },
  {
   "cell_type": "code",
   "execution_count": null,
   "metadata": {
    "collapsed": true
   },
   "outputs": [],
   "source": []
  }
 ],
 "metadata": {
  "kernelspec": {
   "display_name": "Python 2",
   "language": "python",
   "name": "python2"
  },
  "language_info": {
   "codemirror_mode": {
    "name": "ipython",
    "version": 2
   },
   "file_extension": ".py",
   "mimetype": "text/x-python",
   "name": "python",
   "nbconvert_exporter": "python",
   "pygments_lexer": "ipython2",
   "version": "2.7.12"
  }
 },
 "nbformat": 4,
 "nbformat_minor": 2
}
