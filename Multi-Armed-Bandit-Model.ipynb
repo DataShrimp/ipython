{
 "cells": [
  {
   "cell_type": "markdown",
   "metadata": {},
   "source": [
    "# 增强学习：多臂赌博机模型"
   ]
  },
  {
   "cell_type": "code",
   "execution_count": 1,
   "metadata": {
    "collapsed": true
   },
   "outputs": [],
   "source": [
    "import numpy as np\n",
    "import tensorflow as tf\n",
    "import matplotlib.pyplot as plt\n",
    "%matplotlib inline"
   ]
  },
  {
   "cell_type": "markdown",
   "metadata": {},
   "source": [
    "## 环境建模，给定摇臂行为，返回回报\n",
    "预置设为臂4值最小，根据getRward()函数会有最大回报"
   ]
  },
  {
   "cell_type": "code",
   "execution_count": 2,
   "metadata": {
    "collapsed": true
   },
   "outputs": [],
   "source": [
    "bandits = [5, 1.2, -0.3, -5.0]\n",
    "num_bandits = len(bandits)\n",
    "\n",
    "def getReward(bandit):\n",
    "    r = np.random.randn(1)\n",
    "    if r>bandit:\n",
    "        return 1\n",
    "    else:\n",
    "        return -1"
   ]
  },
  {
   "cell_type": "markdown",
   "metadata": {},
   "source": [
    "## Agent建模1\n",
    "平均累积回报函数"
   ]
  },
  {
   "cell_type": "code",
   "execution_count": 3,
   "metadata": {
    "collapsed": true
   },
   "outputs": [],
   "source": [
    "class QAvg:\n",
    "    def __init__(self, num_bandits):\n",
    "        self.k = np.zeros(num_bandits)\n",
    "        \n",
    "    def getOptAction(self):\n",
    "        return self.k.argmax()\n",
    "    \n",
    "    def update(self, count, action, reward):\n",
    "        self.k[action] += (self.getOptAction()*count + reward)/(count+1)\n",
    "        \n",
    "    def printRewards(self):\n",
    "        print self.k"
   ]
  },
  {
   "cell_type": "markdown",
   "metadata": {},
   "source": [
    "贪心策略训练"
   ]
  },
  {
   "cell_type": "code",
   "execution_count": 4,
   "metadata": {},
   "outputs": [],
   "source": [
    "def greed_train_qavg(total_episode, e, Q):\n",
    "    for count in range(total_episode):\n",
    "        # 均匀分布\n",
    "        r = np.random.rand(1)\n",
    "        if  r < e:\n",
    "            action = np.random.randint(num_bandits)\n",
    "        else:\n",
    "            action = Q.getOptAction()\n",
    "\n",
    "        reward = getReward(bandits[action])\n",
    "        Q.update(action=action, count=count+1, reward=reward)\n",
    "    return Q.getOptAction()+1"
   ]
  },
  {
   "cell_type": "markdown",
   "metadata": {},
   "source": [
    "## Agent建模2\n",
    "神经网络回报函数，对Q价值函数的近似"
   ]
  },
  {
   "cell_type": "code",
   "execution_count": 5,
   "metadata": {},
   "outputs": [],
   "source": [
    "lr = 0.001\n",
    "tf.reset_default_graph()\n",
    "            \n",
    "reward_holder = tf.placeholder(tf.float32, shape=[1])\n",
    "action_holder = tf.placeholder(tf.int32, shape=[1])\n",
    "\n",
    "weight = tf.Variable(tf.ones(num_bandits))\n",
    "chosen_action = tf.argmax(weight, axis=0)\n",
    "\n",
    "response_weight = tf.slice(weight, action_holder, size=[1])\n",
    "loss = -(tf.log(response_weight)*reward_holder)\n",
    "update = tf.train.GradientDescentOptimizer(learning_rate=lr).minimize(loss)"
   ]
  },
  {
   "cell_type": "markdown",
   "metadata": {},
   "source": [
    "贪心策略训练"
   ]
  },
  {
   "cell_type": "code",
   "execution_count": 6,
   "metadata": {
    "collapsed": true
   },
   "outputs": [],
   "source": [
    "def greed_train_qnetwork(total_episode, e):\n",
    "    total_reward = np.zeros(num_bandits)\n",
    "    \n",
    "    with tf.Session() as sess:\n",
    "        sess.run(tf.global_variables_initializer())\n",
    "        for count in range(total_episode):\n",
    "            r = np.random.randn(1)\n",
    "            if r<e:\n",
    "                action = np.random.randint(num_bandits)\n",
    "            else:\n",
    "                action = sess.run(chosen_action)\n",
    "\n",
    "            reward = getReward(bandits[action])\n",
    "            sess.run(update, feed_dict={action_holder: [action], reward_holder: [reward]})\n",
    "            total_reward[action] += reward\n",
    "    return total_reward.argmax()+1"
   ]
  },
  {
   "cell_type": "markdown",
   "metadata": {},
   "source": [
    "## 效果对比验证"
   ]
  },
  {
   "cell_type": "code",
   "execution_count": 7,
   "metadata": {},
   "outputs": [],
   "source": [
    "x,y = [],[]\n",
    "for i in range(50):\n",
    "    x.append( greed_train_qavg(10000, 0.5, QAvg(num_bandits)) )\n",
    "    y.append( greed_train_qnetwork(500, 0.5) )"
   ]
  },
  {
   "cell_type": "code",
   "execution_count": 8,
   "metadata": {},
   "outputs": [
    {
     "data": {
      "text/plain": [
       "[<matplotlib.lines.Line2D at 0x1044ec7d0>]"
      ]
     },
     "execution_count": 8,
     "metadata": {},
     "output_type": "execute_result"
    },
    {
     "data": {
      "image/png": "[encoded data removed]",
      "text/plain": [
       "<matplotlib.figure.Figure at 0x1044ec6d0>"
      ]
     },
     "metadata": {},
     "output_type": "display_data"
    }
   ],
   "source": [
    "plt.plot(x, color=\"k\")\n",
    "plt.plot(y, color=\"r\")"
   ]
  },
  {
   "cell_type": "code",
   "execution_count": null,
   "metadata": {
    "collapsed": true
   },
   "outputs": [],
   "source": []
  }
 ],
 "metadata": {
  "kernelspec": {
   "display_name": "Python 2",
   "language": "python",
   "name": "python2"
  },
  "language_info": {
   "codemirror_mode": {
    "name": "ipython",
    "version": 2
   },
   "file_extension": ".py",
   "mimetype": "text/x-python",
   "name": "python",
   "nbconvert_exporter": "python",
   "pygments_lexer": "ipython2",
   "version": "2.7.12"
  }
 },
 "nbformat": 4,
 "nbformat_minor": 2
}
